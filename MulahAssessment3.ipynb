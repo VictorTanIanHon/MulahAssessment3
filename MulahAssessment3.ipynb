{
 "cells": [
  {
   "cell_type": "code",
   "execution_count": 24,
   "id": "eead7771",
   "metadata": {},
   "outputs": [],
   "source": [
    "import pandas as pd\n",
    "import numpy as np"
   ]
  },
  {
   "cell_type": "code",
   "execution_count": 65,
   "id": "aa0b290f",
   "metadata": {},
   "outputs": [],
   "source": [
    "df = pd.read_csv(\"DeveloperQuiz-Raw-Data - Raw_Data.csv\")"
   ]
  },
  {
   "cell_type": "code",
   "execution_count": 58,
   "id": "c6c06dee",
   "metadata": {},
   "outputs": [
    {
     "data": {
      "text/html": [
       "<div>\n",
       "<style scoped>\n",
       "    .dataframe tbody tr th:only-of-type {\n",
       "        vertical-align: middle;\n",
       "    }\n",
       "\n",
       "    .dataframe tbody tr th {\n",
       "        vertical-align: top;\n",
       "    }\n",
       "\n",
       "    .dataframe thead th {\n",
       "        text-align: right;\n",
       "    }\n",
       "</style>\n",
       "<table border=\"1\" class=\"dataframe\">\n",
       "  <thead>\n",
       "    <tr style=\"text-align: right;\">\n",
       "      <th></th>\n",
       "      <th>Date</th>\n",
       "      <th>Phone</th>\n",
       "      <th>Store</th>\n",
       "      <th>Collected</th>\n",
       "      <th>Redemeed</th>\n",
       "    </tr>\n",
       "  </thead>\n",
       "  <tbody>\n",
       "    <tr>\n",
       "      <th>0</th>\n",
       "      <td>03/01/2020</td>\n",
       "      <td>60128846458</td>\n",
       "      <td>Alpha Sdn Bhd</td>\n",
       "      <td>121</td>\n",
       "      <td>NaN</td>\n",
       "    </tr>\n",
       "    <tr>\n",
       "      <th>1</th>\n",
       "      <td>05/01/2020</td>\n",
       "      <td>60128542161</td>\n",
       "      <td>Charlie Sdn Bhd</td>\n",
       "      <td>161</td>\n",
       "      <td>NaN</td>\n",
       "    </tr>\n",
       "    <tr>\n",
       "      <th>2</th>\n",
       "      <td>05/01/2020</td>\n",
       "      <td>60173527250</td>\n",
       "      <td>Foxtrot Sdn Bhd</td>\n",
       "      <td>69</td>\n",
       "      <td>NaN</td>\n",
       "    </tr>\n",
       "    <tr>\n",
       "      <th>3</th>\n",
       "      <td>05/01/2020</td>\n",
       "      <td>60121224273</td>\n",
       "      <td>Foxtrot Sdn Bhd</td>\n",
       "      <td>157</td>\n",
       "      <td>NaN</td>\n",
       "    </tr>\n",
       "    <tr>\n",
       "      <th>4</th>\n",
       "      <td>06/01/2020</td>\n",
       "      <td>60122691965</td>\n",
       "      <td>Alpha Sdn Bhd</td>\n",
       "      <td>71</td>\n",
       "      <td>NaN</td>\n",
       "    </tr>\n",
       "  </tbody>\n",
       "</table>\n",
       "</div>"
      ],
      "text/plain": [
       "         Date        Phone            Store  Collected  Redemeed\n",
       "0  03/01/2020  60128846458    Alpha Sdn Bhd        121       NaN\n",
       "1  05/01/2020  60128542161  Charlie Sdn Bhd        161       NaN\n",
       "2  05/01/2020  60173527250  Foxtrot Sdn Bhd         69       NaN\n",
       "3  05/01/2020  60121224273  Foxtrot Sdn Bhd        157       NaN\n",
       "4  06/01/2020  60122691965    Alpha Sdn Bhd         71       NaN"
      ]
     },
     "execution_count": 58,
     "metadata": {},
     "output_type": "execute_result"
    }
   ],
   "source": [
    "df.head()"
   ]
  },
  {
   "cell_type": "code",
   "execution_count": 66,
   "id": "2ca92ba2",
   "metadata": {},
   "outputs": [],
   "source": [
    "class Company:\n",
    "    def __init__(self, id, name):\n",
    "        self.id = id\n",
    "        self.name = name\n",
    "        self.totalpointsgiven = 0\n",
    "        self.owes = [0]*7\n",
    "    \n",
    "    def set_owes(self, index, points):\n",
    "        self.owes[index] += points\n",
    "        \n",
    "    def add_points_given(self, points):\n",
    "        self.totalpointsgiven += points\n",
    "\n",
    "comp_data = { \"Alpha\" : 1, \"Beta\" : 2, \"Charlie\" : 3, \"Delta\" : 4, \"Echo\" : 5, \"Foxtrot\": 6, \"Gamma\" : 7 }\n",
    "\n",
    "a = Company(1,\"Alpha\")\n",
    "b = Company(2,\"Beta\")\n",
    "c = Company(3,\"Charlie\")\n",
    "d = Company(4,\"Delta\")\n",
    "e = Company(5,\"Echo\")\n",
    "f = Company(6,\"Foxtrot\")\n",
    "g = Company(7,\"Gamma\")\n",
    "\n",
    "comp_list = [a,b,c,d,e,f,g]"
   ]
  },
  {
   "cell_type": "code",
   "execution_count": 19,
   "id": "e326e16f",
   "metadata": {},
   "outputs": [
    {
     "data": {
      "text/plain": [
       "(297, 5)"
      ]
     },
     "execution_count": 19,
     "metadata": {},
     "output_type": "execute_result"
    }
   ],
   "source": [
    "df.shape"
   ]
  },
  {
   "cell_type": "code",
   "execution_count": 40,
   "id": "e99e41c8",
   "metadata": {},
   "outputs": [
    {
     "data": {
      "text/plain": [
       "121"
      ]
     },
     "execution_count": 40,
     "metadata": {},
     "output_type": "execute_result"
    }
   ],
   "source": [
    "df.iloc[0,3]"
   ]
  },
  {
   "cell_type": "code",
   "execution_count": 68,
   "id": "9ebbf252",
   "metadata": {
    "scrolled": true
   },
   "outputs": [
    {
     "name": "stdout",
     "output_type": "stream",
     "text": [
      "Charlie redeemed 500.0\n",
      "Alpha owes Charlie121\n",
      "121\n",
      "Charlie owes Charlie161\n",
      "161\n",
      "Foxtrot owes Charlie69\n",
      "69\n",
      "Foxtrot owes Charlie8\n",
      "Charlie redeemed 250.0\n",
      "Foxtrot owes Charlie8\n",
      "85\n",
      "Alpha owes Charlie71\n",
      "192\n",
      "Alpha owes Charlie3\n",
      "Echo redeemed 500.0\n",
      "Alpha owes Echo3\n",
      "3\n",
      "Alpha owes Echo111\n",
      "114\n",
      "Echo owes Echo31\n",
      "31\n",
      "Alpha owes Echo162\n",
      "276\n",
      "Charlie owes Echo47\n",
      "47\n",
      "Foxtrot owes Echo121\n",
      "121\n",
      "Echo owes Echo24\n",
      "Gamma redeemed 250.0\n",
      "Echo owes Gamma24\n",
      "24\n",
      "Foxtrot owes Gamma153\n",
      "153\n",
      "Beta owes Gamma116\n",
      "Alpha redeemed 500.0\n",
      "Beta owes Alpha116\n",
      "116\n",
      "Delta owes Alpha166\n",
      "166\n",
      "Foxtrot owes Alpha194\n",
      "194\n",
      "Foxtrot owes Alpha31\n",
      "Alpha redeemed 250.0\n",
      "Foxtrot owes Alpha31\n",
      "256\n",
      "Charlie owes Alpha198\n",
      "198\n",
      "Alpha owes Alpha165\n",
      "Foxtrot redeemed 500.0\n",
      "Alpha owes Foxtrot165\n",
      "165\n",
      "Beta owes Foxtrot33\n",
      "33\n",
      "Beta owes Foxtrot58\n",
      "91\n",
      "Gamma owes Foxtrot156\n",
      "156\n",
      "Gamma owes Foxtrot15\n",
      "Beta redeemed 250.0\n",
      "Gamma owes Beta15\n",
      "15\n",
      "Echo owes Beta136\n",
      "136\n",
      "Echo owes Beta17\n",
      "Alpha redeemed 250.0\n",
      "Echo owes Alpha17\n",
      "17\n",
      "Echo owes Alpha143\n",
      "160\n",
      "Gamma owes Alpha26\n",
      "Delta redeemed 250.0\n",
      "Gamma owes Delta26\n",
      "26\n",
      "Delta owes Delta169\n",
      "169\n",
      "Delta owes Delta28\n",
      "Beta redeemed 1500.0\n",
      "Delta owes Beta28\n",
      "28\n",
      "Delta owes Beta50\n",
      "78\n",
      "Charlie owes Beta154\n",
      "154\n",
      "Alpha owes Beta177\n",
      "177\n",
      "Gamma owes Beta53\n",
      "68\n",
      "Gamma owes Beta62\n",
      "130\n",
      "Alpha owes Beta98\n",
      "275\n",
      "Beta owes Beta32\n",
      "32\n",
      "Echo owes Beta161\n",
      "314\n",
      "Gamma owes Beta189\n",
      "319\n",
      "Gamma owes Beta178\n",
      "497\n",
      "Charlie owes Beta114\n",
      "268\n",
      "Alpha owes Beta39\n",
      "314\n",
      "Foxtrot owes Beta37\n",
      "37\n",
      "Alpha owes Beta54\n"
     ]
    }
   ],
   "source": [
    "pointer1 = 0\n",
    "pointer2 = 0\n",
    "for i in range(297):\n",
    "    if pd.isnull(df.iloc[i,4]) == False:\n",
    "        points_redeemed = df.iloc[i,4]\n",
    "        all_words = df.iloc[i,2].split()\n",
    "        comp_name = all_words[0]\n",
    "        comp_index = comp_data[comp_name]\n",
    "        \n",
    "        print(comp_name + \" redeemed \" + str(points_redeemed))\n",
    "        \n",
    "        while points_redeemed > 0:\n",
    "            if points_redeemed - df.iloc[pointer2,3] > 0:\n",
    "                points_redeemed -= df.iloc[pointer2,3]\n",
    "                points_owed = df.iloc[pointer2,3]\n",
    "                df.iloc[pointer2,3] = 0\n",
    "                all_words2 = df.iloc[pointer2,2].split()\n",
    "                comp_name2 = all_words2[0]\n",
    "                comp_index2 = comp_data[comp_name2]-1\n",
    "        \n",
    "                comp_list[comp_index2].set_owes(comp_index-1, points_owed)\n",
    "            \n",
    "                pointer2 += 1\n",
    "                \n",
    "                print(comp_name2 + \" owes \" + comp_name + str(points_owed))\n",
    "                \n",
    "                print(comp_list[comp_index2].owes[comp_index-1])\n",
    "            else:\n",
    "                df.iloc[pointer2,3] -= points_redeemed\n",
    "                points_redeemed = 0\n",
    "                all_words2 = df.iloc[pointer2,2].split()\n",
    "                comp_name2 = all_words2[0]\n",
    "                comp_index2 = comp_data[comp_name2]-1\n",
    "        \n",
    "                comp_list[comp_index2].set_owes(comp_index-1, df.iloc[pointer2,3])\n",
    "            \n",
    "                print(comp_name2 + \" owes \" + comp_name + str(df.iloc[pointer2,3]))\n"
   ]
  },
  {
   "cell_type": "code",
   "execution_count": 69,
   "id": "6d2f522c",
   "metadata": {},
   "outputs": [
    {
     "name": "stdout",
     "output_type": "stream",
     "text": [
      "195\n"
     ]
    }
   ],
   "source": [
    "print(comp_list[0].owes[2])"
   ]
  },
  {
   "cell_type": "code",
   "execution_count": 72,
   "id": "39df9573",
   "metadata": {},
   "outputs": [
    {
     "name": "stdout",
     "output_type": "stream",
     "text": [
      "Company Alpha owe list: 165 368 195 0 276 165 0\n",
      "Company Beta owe list: 116 32 0 0 0 91 116\n",
      "Company Charlie owe list: 198 268 161 0 47 0 0\n",
      "Company Delta owe list: 166 78 0 197 0 0 0\n",
      "Company Echo owe list: 160 314 0 0 55 0 24\n",
      "Company Foxtrot owe list: 256 37 85 0 121 0 153\n",
      "Company Gamma owe list: 26 497 0 26 0 171 0\n"
     ]
    }
   ],
   "source": [
    "for company in comp_list:\n",
    "    print(\"Company \" + company.name + \" owe list: \" + ' '.join(str(item) for item in company.owes))"
   ]
  },
  {
   "cell_type": "code",
   "execution_count": null,
   "id": "068c0bc1",
   "metadata": {},
   "outputs": [],
   "source": []
  }
 ],
 "metadata": {
  "kernelspec": {
   "display_name": "Python 3 (ipykernel)",
   "language": "python",
   "name": "python3"
  },
  "language_info": {
   "codemirror_mode": {
    "name": "ipython",
    "version": 3
   },
   "file_extension": ".py",
   "mimetype": "text/x-python",
   "name": "python",
   "nbconvert_exporter": "python",
   "pygments_lexer": "ipython3",
   "version": "3.10.12"
  }
 },
 "nbformat": 4,
 "nbformat_minor": 5
}
